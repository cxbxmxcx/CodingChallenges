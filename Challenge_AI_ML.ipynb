{
  "nbformat": 4,
  "nbformat_minor": 0,
  "metadata": {
    "colab": {
      "name": "Challenge_AI_ML.ipynb",
      "provenance": [],
      "collapsed_sections": [],
      "authorship_tag": "ABX9TyOA8YVTPIyfcRTmqtWjUycP",
      "include_colab_link": true
    },
    "kernelspec": {
      "name": "python3",
      "display_name": "Python 3"
    }
  },
  "cells": [
    {
      "cell_type": "markdown",
      "metadata": {
        "id": "view-in-github",
        "colab_type": "text"
      },
      "source": [
        "<a href=\"https://colab.research.google.com/github/cxbxmxcx/CodingChallenges/blob/master/Challenge_AI_ML.ipynb\" target=\"_parent\"><img src=\"https://colab.research.google.com/assets/colab-badge.svg\" alt=\"Open In Colab\"/></a>"
      ]
    },
    {
      "cell_type": "markdown",
      "metadata": {
        "id": "nClvVdXhMWMx",
        "colab_type": "text"
      },
      "source": [
        "IMPORTS\n"
      ]
    },
    {
      "cell_type": "code",
      "metadata": {
        "id": "1bZvW3NQMVAJ",
        "colab_type": "code",
        "colab": {}
      },
      "source": [
        "import urllib\n",
        "import numpy as np\n",
        "import matplotlib.pyplot as plt"
      ],
      "execution_count": 0,
      "outputs": []
    },
    {
      "cell_type": "markdown",
      "metadata": {
        "id": "vfQOCZA_us70",
        "colab_type": "text"
      },
      "source": [
        "READ FILE"
      ]
    },
    {
      "cell_type": "code",
      "metadata": {
        "id": "VyqdtKvhLh8f",
        "colab_type": "code",
        "colab": {}
      },
      "source": [
        "def read_input_file(url):  \n",
        "  file = urllib. request. urlopen(url)\n",
        "  text = ''\n",
        "  for line in file:\n",
        "    decoded_line = line.decode(\"utf-8\")  \n",
        "    text = text + decoded_line\n",
        "  return text"
      ],
      "execution_count": 0,
      "outputs": []
    },
    {
      "cell_type": "markdown",
      "metadata": {
        "id": "51_L3TKeux6m",
        "colab_type": "text"
      },
      "source": [
        "ROTATION CODE"
      ]
    },
    {
      "cell_type": "code",
      "metadata": {
        "id": "f7yBTTZzQ8Qj",
        "colab_type": "code",
        "colab": {}
      },
      "source": [
        "def rotate_left(dir):\n",
        "  return np.array((-dir[1],dir[0])) \n",
        "\n",
        "def rotate_right(dir):\n",
        "  return np.array((dir[1],dir[0]))"
      ],
      "execution_count": 0,
      "outputs": []
    },
    {
      "cell_type": "markdown",
      "metadata": {
        "id": "MvNuzBfXw9w4",
        "colab_type": "text"
      },
      "source": [
        "RENDERING TURTLE PATH RESULTS"
      ]
    },
    {
      "cell_type": "code",
      "metadata": {
        "id": "nZgASdrkNT9U",
        "colab_type": "code",
        "colab": {}
      },
      "source": [
        "def render_turtle_trail(turtle_path, start_direction, origin):\n",
        "  direction = start_direction\n",
        "  turtle_spot = origin\n",
        "  x = np.array((0))\n",
        "  y = np.array((0))\n",
        "  path = {}\n",
        "  moved = False\n",
        "  for instruction in turtle_path:\n",
        "    if instruction == \"F\":\n",
        "      turtle_spot = turtle_spot + direction\n",
        "      moved = True\n",
        "    if instruction == \"L\":\n",
        "      direction = rotate_left(direction)\n",
        "      moved = False\n",
        "    if instruction == \"R\":\n",
        "      direction = rotate_right(direction)\n",
        "      moved = False\n",
        "\n",
        "    if moved:\n",
        "      x = np.append(x, turtle_spot[0])\n",
        "      y = np.append(y, turtle_spot[1])\n",
        "      if np.array2string(turtle_spot) in path:\n",
        "        path[np.array2string(turtle_spot)] += 1\n",
        "      else:\n",
        "        path[np.array2string(turtle_spot)] = 1\n",
        "  print('1. ----------------------------------')\n",
        "  print(f\"Turtle completed at {turtle_spot}\")\n",
        "  print('2. ----------------------------------')\n",
        "  print('Turtle Path')\n",
        "  fig = plt.figure()\n",
        "  ax = fig.gca()\n",
        "  plt.scatter(x, y)\n",
        "  plt.grid()\n",
        "  plt.show()\n",
        "  print('3. ----------------------------------')\n",
        "  print('Turtle crossed path over the following points:')\n",
        "  pnts = ''\n",
        "  for p in path:  \n",
        "    if path[p] > 1:\n",
        "      pnts += p\n",
        "  print(pnts)\n"
      ],
      "execution_count": 0,
      "outputs": []
    },
    {
      "cell_type": "markdown",
      "metadata": {
        "id": "SWtMyvYcxQEt",
        "colab_type": "text"
      },
      "source": [
        "UNIT TESTS"
      ]
    },
    {
      "cell_type": "code",
      "metadata": {
        "id": "6_Ka3iqBxFlj",
        "colab_type": "code",
        "colab": {
          "base_uri": "https://localhost:8080/",
          "height": 177
        },
        "outputId": "f9337d90-c52d-4dd0-8ce3-dbda47c411fb"
      },
      "source": [
        "import unittest\n",
        "\n",
        "class TestNotebook(unittest.TestCase):\n",
        "  def test_rotate_left(self):\n",
        "    dir_in = np.array((0.0, 1.0))\n",
        "    dir_out = np.array((-1.0, 0.0))\n",
        "    self.assertEqual(rotate_left(dir_in).all(), dir_out.all())\n",
        "\n",
        "  def test_rotate_right(self):\n",
        "    dir_in = np.array((0.0, 1.0))\n",
        "    dir_out = np.array((1.0, 0.0))\n",
        "    self.assertEqual(rotate_right(dir_in).all(), dir_out.all())\n",
        "\n",
        "  def test_read_input_file(self):\n",
        "    test_url = 'https://github.com/cxbxmxcx/CodingChallenges/blob/master/AI_ML/directions-test.txt?raw=true' \n",
        "    test_output = 'FLRRFRFRRFRFLLF'\n",
        "    self.assertEqual(read_input_file(test_url), test_output)\n",
        "\n",
        "unittest.main(argv=[''], verbosity=2, exit=False)"
      ],
      "execution_count": 122,
      "outputs": [
        {
          "output_type": "stream",
          "text": [
            "test_read_input_file (__main__.TestNotebook) ... ok\n",
            "test_rotate_left (__main__.TestNotebook) ... ok\n",
            "test_rotate_right (__main__.TestNotebook) ... ok\n",
            "\n",
            "----------------------------------------------------------------------\n",
            "Ran 3 tests in 0.456s\n",
            "\n",
            "OK\n"
          ],
          "name": "stderr"
        },
        {
          "output_type": "execute_result",
          "data": {
            "text/plain": [
              "<unittest.main.TestProgram at 0x7fb671cac710>"
            ]
          },
          "metadata": {
            "tags": []
          },
          "execution_count": 122
        }
      ]
    },
    {
      "cell_type": "markdown",
      "metadata": {
        "id": "_500o3k4xUv1",
        "colab_type": "text"
      },
      "source": [
        "RENDER OUTPUT FOR FILE"
      ]
    },
    {
      "cell_type": "code",
      "metadata": {
        "id": "iOqnOCxFvnzg",
        "colab_type": "code",
        "colab": {
          "base_uri": "https://localhost:8080/",
          "height": 409
        },
        "cellView": "both",
        "outputId": "f9339da0-a506-4520-f4b0-13ec64a17076"
      },
      "source": [
        "#@title FIle Test  { run: \"auto\" }\n",
        "#@markdown Move the slider to select the file number.\n",
        "file_num = 1 #@param {type:\"slider\", min:1, max:5, step:1}\n",
        "url = f\"https://github.com/cxbxmxcx/CodingChallenges/blob/master/AI_ML/directions-{file_num}.txt?raw=true\"\n",
        "turtle_path = read_input_file(url)\n",
        "dir = np.array((0.0, 1.0)) \n",
        "start = np.array((0.0, 0.0))\n",
        "render_turtle_trail(turtle_path, dir, start)"
      ],
      "execution_count": 124,
      "outputs": [
        {
          "output_type": "stream",
          "text": [
            "1. ----------------------------------\n",
            "Turtle completed at [11.  7.]\n",
            "2. ----------------------------------\n",
            "Turtle Path\n"
          ],
          "name": "stdout"
        },
        {
          "output_type": "display_data",
          "data": {
            "image/png": "[encoded data removed]",
            "text/plain": [
              "<Figure size 432x288 with 1 Axes>"
            ]
          },
          "metadata": {
            "tags": [],
            "needs_background": "light"
          }
        },
        {
          "output_type": "stream",
          "text": [
            "3. ----------------------------------\n",
            "Turtle crossed path over the following points:\n",
            "[-1.  1.][-1.  0.][-1. -1.][-1.  2.][-1.  3.][-1.  4.][-1.  5.][ 2. -4.][ 2. -5.][ 2. -6.][ 2. -7.][ 2. -8.][ 1. -8.][ 1. -9.][ 1. -7.][ 2. -9.][  2. -10.][  2. -12.][  1. -12.][  0. -12.][  0. -13.][  0. -10.][ 0. -9.][  1. -10.][ 3. -9.][ 4. -9.][ 4. -8.][ 4. -7.][ 4. -6.][ 3. -6.][ 3. -7.][ 3. -8.][ 0. -8.][ 4. -5.][ 3. -5.][ 3. -4.][ 1. -4.][ 0. -4.][ 4. -4.][ 5. -4.][ 5. -3.][ 6. -3.][ 6. -2.][ 6. -1.][ 7. -1.][ 8. -1.][ 9. -1.][10. -1.][10.  0.][11.  0.][12.  0.][13.  0.][14.  0.][15.  0.][13. -1.][12. -1.][11. -1.][10. -2.][11. -2.][ 7. -2.][ 7. -3.][ 8. -3.][ 4. -3.][ 5. -6.][ 5. -5.][ 5. -9.][-1. -9.][ -1. -10.][ -1. -11.][ -3. -11.][ -3. -10.][-3. -9.][-3. -8.][-3. -7.][-2. -7.][-4. -9.][ -5. -10.][ -5. -11.][ -6. -10.][-6. -8.][-4. -8.][-1. -7.][ 0. -7.][-2. -8.][-2. -9.][ -4. -10.][ -4. -11.][ -3. -12.][-1. -8.][ -7. -13.][ -7. -14.][ -7. -15.][ -8. -17.][ -8. -18.][ -7. -17.][-10. -18.][ -1. -13.][  1. -13.][  2. -13.][  4. -14.][  5. -14.][  5. -13.][ 5. -7.][ 3. -3.][ 9. -4.][ 9. -3.][ 9. -2.][9. 0.][9. 1.][9. 2.][10.  2.][12.  2.][10.  1.][8. 1.][7. 1.][6. 1.][8. 2.][9. 3.][10.  3.][10.  4.][10.  5.][9. 5.][9. 4.][9. 6.][9. 8.][10.  8.][10.  9.][11.  7.][14.  7.][14.  8.][17. 10.][17. 11.][13. 11.][13. 10.][7. 8.][6. 8.][5. 8.][8. 8.][9. 9.][11. 10.]\n"
          ],
          "name": "stdout"
        }
      ]
    }
  ]
}